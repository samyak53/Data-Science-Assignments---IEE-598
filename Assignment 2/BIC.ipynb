{
 "cells": [
  {
   "cell_type": "markdown",
   "metadata": {},
   "source": [
    "# Homework 2 Problem 2\n",
    "Please finish the following code and copy the nessary result to the report for the discussion"
   ]
  },
  {
   "cell_type": "markdown",
   "metadata": {},
   "source": [
    "### Part 0, data generation function\n",
    "We would like to first import some necessary Libraries for this task and then write down the data generation function as follow. \n",
    "\n",
    "We also create the polynomial design matrix up to order k, which is given in polynomialfeatures function. \n"
   ]
  },
  {
   "cell_type": "code",
   "execution_count": 349,
   "metadata": {
    "collapsed": true
   },
   "outputs": [],
   "source": [
    "import matplotlib.pyplot as plt\n",
    "import numpy as np\n",
    "from sklearn.linear_model import Ridge\n",
    "%matplotlib inline\n",
    "\n",
    "def ftrue(x):\n",
    "    return np.sin(x)\n",
    "def generatedata(ndata,seed):\n",
    "    rng = np.random.RandomState(seed)\n",
    "    Xtrain = np.linspace(0,1,ndata)\n",
    "    Ytrain = np.sin(Xtrain*10.0) + 0.1 * rng.randn(ndata)\n",
    "    return Xtrain,Ytrain\n",
    "X,Y = generatedata(100,1)\n",
    "x_train, y_train = generatedata(100,1)\n",
    "x_test, y_test = generatedata(100,2)\n",
    "\n",
    "\n",
    "def polynomialfeatures(x,k):\n",
    "    if len(x.shape) == 1:\n",
    "        x = x[:,np.newaxis] \n",
    "    index = range(1,k+1)\n",
    "    X = np.concatenate([x**i for i in index],1)\n",
    "    return X\n",
    "\n",
    "# def polynomialfeatures(x,k):\n",
    "#     X = np.zeros((len(x),k))\n",
    "#     for i in range(1,len(x)+1):\n",
    "#         for j in range(1,k+1):\n",
    "#             X[i−1,j−1]=x[i−1]∗∗j\n",
    "#     return X\n"
   ]
  },
  {
   "cell_type": "markdown",
   "metadata": {},
   "source": [
    "### Part 1: Use BIC for tuning parameter selection\n",
    "Please feel free to use the sklearn library [sklearn.linear_model.Ridge](http://scikit-learn.org/stable/modules/generated/sklearn.linear_model.Ridge.html) to solve the Ridge regression in this section to find the tuning parameter selection. We don't need to do standarlization in this example since all $x^i\\in [0,1]$ if $x \\in [0,1]$, which are already in the same scale.\n",
    "\n",
    "(a) Please compute and plot on how do the $RSS=\\|y-\\hat{y}\\|^{2}$ and degree of freedom $df=trace(X(X^{T}X+\\lambda I)^{-1}X^{T})$ change according to the tuning parameter $\\lambda$. \n",
    "\n",
    "\n"
   ]
  },
  {
   "cell_type": "code",
   "execution_count": 350,
   "metadata": {
    "scrolled": false
   },
   "outputs": [
    {
     "data": {
      "text/plain": [
       "Text(0.5,1,'df V/S RSS values')"
      ]
     },
     "execution_count": 350,
     "metadata": {},
     "output_type": "execute_result"
    },
    {
     "data": {
      "image/png": "[encoded data removed]",
      "text/plain": [
       "<matplotlib.figure.Figure at 0x283a4074160>"
      ]
     },
     "metadata": {},
     "output_type": "display_data"
    }
   ],
   "source": [
    "from sklearn.linear_model import Ridge\n",
    "from sklearn import preprocessing\n",
    "lambdaall = [1e-13, 1e-12,1e-11,1e-10, 1e-8, 1e-4, 1e-3,1e-2, 1, 5, 10, 20]\n",
    "\n",
    "RSS = np.array(lambdaall)*0\n",
    "df = np.array(lambdaall)*0\n",
    "x_p = polynomialfeatures(x_train,10)\n",
    "x_testp = polynomialfeatures(x_test,10)\n",
    "for i,lambda1 in enumerate(lambdaall):\n",
    "# Please complete this part, please use np.trace to compute the trace of a matrix\n",
    "    clf = Ridge(alpha=lambda1)\n",
    "    clf.fit(x_p, y_train)\n",
    "    y_pred = clf.predict(x_testp)\n",
    "    RSS_diff = y_test-y_pred\n",
    "    norm = np.linalg.norm(RSS_diff)\n",
    "    RSS[i]=norm**2 \n",
    "\n",
    "    X_ =np.matmul(x_p.T,x_p)+np.dot(lambda1,np.identity(10))\n",
    "    X_inverse = np.linalg.inv(X_)\n",
    "    X1 = np.matmul(x_p,X_inverse)\n",
    "    X2 = np.matmul(X1,x_p.T)\n",
    "    df[i]=np.trace(X2)\n",
    "    \n",
    "plt.scatter(df,RSS)\n",
    "plt.ylabel('Residual sum of squares')\n",
    "plt.xlabel('degree of freedom')\n",
    "plt.title('df V/S RSS values')\n",
    "    \n",
    "    \n",
    "    \n",
    "   "
   ]
  },
  {
   "cell_type": "code",
   "execution_count": 351,
   "metadata": {},
   "outputs": [
    {
     "name": "stdout",
     "output_type": "stream",
     "text": [
      "RSS VALUES: [  1.12977886   1.12794779   1.12759635   1.11957906   1.08906155\n",
      "   1.91171907   6.52120238  15.66908278  32.87925574  40.91348285\n",
      "  42.37523496  43.16180982] \n",
      "\n",
      " df values: [ 9.8224594   9.30924196  8.96048159  8.52024895  7.54431136  5.20387301\n",
      "  4.56413472  3.86486735  2.3290028   1.75074531  1.48786667  1.21930632]\n"
     ]
    }
   ],
   "source": [
    "print(\"RSS VALUES:\",RSS,'\\n\\n',\"df values:\",df)"
   ]
  },
  {
   "cell_type": "markdown",
   "metadata": {},
   "source": [
    "(b) Please plot the following BIC criterion function for each tuning parameter $\\lambda$. $BIC=n\\log(RSS)+df\\cdot\\log(n)$"
   ]
  },
  {
   "cell_type": "code",
   "execution_count": 352,
   "metadata": {},
   "outputs": [
    {
     "name": "stdout",
     "output_type": "stream",
     "text": [
      "For lambda : 1e-13 \tBIC Values: 57.436288457\n",
      "For lambda : 1e-12 \tBIC Values: 54.9106303117\n",
      "For lambda : 1e-11 \tBIC Values: 53.2733667671\n",
      "For lambda : 1e-10 \tBIC Values: 50.5324735468\n",
      "For lambda : 1e-08 \tBIC Values: 43.2744737181\n",
      "For lambda : 0.0001 \tBIC Values: 88.7650080658\n",
      "For lambda : 0.001 \tBIC Values: 208.524494359\n",
      "For lambda : 0.01 \tBIC Values: 292.967324029\n",
      "For lambda : 1 \tBIC Values: 360.009647673\n",
      "For lambda : 5 \tBIC Values: 379.208446376\n",
      "For lambda : 10 \tBIC Values: 381.508290276\n",
      "For lambda : 20 \tBIC Values: 382.110720322\n"
     ]
    },
    {
     "data": {
      "text/plain": [
       "Text(0.5,1,'lambda V/S BIC')"
      ]
     },
     "execution_count": 352,
     "metadata": {},
     "output_type": "execute_result"
    },
    {
     "data": {
      "image/png": "[encoded data removed]",
      "text/plain": [
       "<matplotlib.figure.Figure at 0x283a4194c18>"
      ]
     },
     "metadata": {},
     "output_type": "display_data"
    }
   ],
   "source": [
    "import math\n",
    "\n",
    "for i in range(0,len(lambdaall)):\n",
    "    BIC = len(x_p)*math.log(RSS[i]) + df[i]*math.log(len(x_p))\n",
    "    print(\"For lambda :\",lambdaall[i],'\\t'  \"BIC Values:\",BIC)\n",
    "    plt.scatter(lambdaall[i],BIC)\n",
    "\n",
    "plt.ylabel('BIC')\n",
    "plt.xlabel('LAMBDA')\n",
    "plt.title('lambda V/S BIC')\n",
    "    \n"
   ]
  },
  {
   "cell_type": "markdown",
   "metadata": {},
   "source": [
    "### Part 3 Implement your own Cross-validation\n",
    "\n",
    "Please use the K-fold function in sklearn as [sklearn.model_selection.KFold](http://scikit-learn.org/stable/modules/generated/sklearn.model_selection.KFold.html) to perform cross-validation. "
   ]
  },
  {
   "cell_type": "code",
   "execution_count": 353,
   "metadata": {
    "scrolled": false
   },
   "outputs": [
    {
     "name": "stdout",
     "output_type": "stream",
     "text": [
      "MSE values for the cross-validation: [ 0.67148232  3.17214903  0.03452281  0.61348029  3.74572855  1.29612203\n",
      "  1.05499216  2.39313374  1.82908878  0.23991309  2.87808478  3.60847237] \t\n",
      " For alpha value: 1e-11 \n",
      " Minimum MSE value is : 0.0345228059974\n"
     ]
    }
   ],
   "source": [
    "p = 30\n",
    "from sklearn.model_selection import KFold\n",
    "from sklearn.model_selection import cross_val_score\n",
    "\n",
    "kf = KFold(n_splits=50,shuffle=True)\n",
    "\n",
    "\n",
    "allalpha=  [1e-13, 1e-12,1e-11,1e-10, 1e-8, 1e-4, 1e-3,1e-2, 1, 5, 10, 20]\n",
    "nalpha = len(allalpha)\n",
    "valscore = np.zeros((nalpha,50))\n",
    "val_score = np.zeros(nalpha)\n",
    "for i,alpha in enumerate(allalpha):\n",
    "    for j,(train_index, val_index) in enumerate(kf.split(X)):\n",
    "        X_train, X_val = x_p[train_index], x_testp[val_index]\n",
    "        y_train, y_val = Y[train_index], Y[val_index]\n",
    "        ridge = Ridge(alpha=alpha,normalize= True, random_state=77)\n",
    "        y_train_  = y_train.reshape(-1,1)\n",
    "        ridge.fit(X_train,y_train_)\n",
    "        y_pred = ridge.predict(X_val)\n",
    "        valscore[i] =np.mean(np.sum((y_val-y_pred)**2))          \n",
    "    \n",
    "for i,j in enumerate(valscore):\n",
    "    val_score[i] = np.mean(j)\n",
    "\n",
    "print(\"MSE values for the cross-validation:\",val_score,'\\t')\n",
    "print(\" For alpha value:\",allalpha[np.argmin(val_score)],'\\n',\"Minimum MSE value is :\",np.min(val_score))\n"
   ]
  }
 ],
 "metadata": {
  "kernelspec": {
   "display_name": "Python 3",
   "language": "python",
   "name": "python3"
  },
  "language_info": {
   "codemirror_mode": {
    "name": "ipython",
    "version": 3
   },
   "file_extension": ".py",
   "mimetype": "text/x-python",
   "name": "python",
   "nbconvert_exporter": "python",
   "pygments_lexer": "ipython3",
   "version": "3.6.3"
  }
 },
 "nbformat": 4,
 "nbformat_minor": 2
}
