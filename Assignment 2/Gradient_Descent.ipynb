{
 "cells": [
  {
   "cell_type": "markdown",
   "metadata": {},
   "source": [
    "## Ridge Regression Optimization\n",
    "\n",
    "We generate two highly correlated features X1 and X2 from a multli-variate normal distribution, we would like to implement the Ridge regression."
   ]
  },
  {
   "cell_type": "code",
   "execution_count": 61,
   "metadata": {
    "collapsed": true
   },
   "outputs": [],
   "source": [
    "import numpy as np\n",
    "import matplotlib.pyplot as plt\n",
    "%matplotlib inline  \n",
    "# Please try to use only these packages for computation\n",
    "\n",
    "n = 1000\n",
    "p = 2\n",
    "#X1 = np.linspace(0,1,n)\n",
    "#X2 = X1 + np.random.normal\n",
    "mean = np.zeros((p))\n",
    "val = 0.99\n",
    "cov = np.ones((p,p))*val\n",
    "cov = cov + np.eye(p)*(1-val)\n",
    "\n",
    "np.random.seed(10)\n",
    "X = np.random.multivariate_normal(mean, cov, n)\n",
    "theta_true = np.ones((p,1))\n",
    "\n",
    "\n"
   ]
  },
  {
   "cell_type": "markdown",
   "metadata": {},
   "source": [
    "We first generate data based on $y=X\\theta+e$, where $e$ follows $N(0,\\delta^2)$, with $\\delta=0.5$"
   ]
  },
  {
   "cell_type": "code",
   "execution_count": 62,
   "metadata": {
    "collapsed": true
   },
   "outputs": [],
   "source": [
    "delta=0.5\n",
    "e=np.random.normal(0,delta,(n,1))\n",
    "y=np.dot(X,theta_true)+e"
   ]
  },
  {
   "cell_type": "markdown",
   "metadata": {},
   "source": [
    "### Part 1: Analytical solution\n",
    "(1) Let's compute the Least Square analytical solution directly by solving $X^T X \\theta = X^T y$"
   ]
  },
  {
   "cell_type": "code",
   "execution_count": 63,
   "metadata": {},
   "outputs": [
    {
     "name": "stdout",
     "output_type": "stream",
     "text": [
      "[[ 1.10034069]\n",
      " [ 0.89299444]]\n"
     ]
    }
   ],
   "source": [
    "beta_OLS_est =np.dot(np.linalg.inv(np.dot(X.T,X)),np.dot(X.T,y))\n",
    "print(beta_OLS_est)\n"
   ]
  },
  {
   "cell_type": "markdown",
   "metadata": {},
   "source": [
    "(2) Let's compute the Ridge Regression analytical solution directly by solving $(X^T X +\\lambda_1 I) \\theta = X^T y$"
   ]
  },
  {
   "cell_type": "code",
   "execution_count": 64,
   "metadata": {},
   "outputs": [
    {
     "name": "stdout",
     "output_type": "stream",
     "text": [
      "[[ 1.0053259 ]\n",
      " [ 0.95681108]]\n"
     ]
    }
   ],
   "source": [
    "lambda1 = 30\n",
    "beta_ridge_est = np.dot(np.linalg.inv(np.dot(X.T,X)+np.dot(lambda1,np.identity(2))),np.dot(X.T,y))\n",
    "print(beta_ridge_est)\n"
   ]
  },
  {
   "cell_type": "markdown",
   "metadata": {},
   "source": [
    "### Part 2: Gradient Descent\n",
    "\n",
    "(a) Let's use Gradient Descent to solve the solution, first, we would like to define the loss Function. \n",
    "We can define the `computeCost(X,y,lambda1,beta)` by\n",
    "$\\|y-X\\beta\\|^2+\\lambda_1 * \\|\\beta\\|^2$\n",
    "and its gradient in `computeGrad(X, y, lambda1,beta)`"
   ]
  },
  {
   "cell_type": "code",
   "execution_count": 65,
   "metadata": {
    "collapsed": true
   },
   "outputs": [],
   "source": [
    "def computeCost(X, y,lambda1, beta):\n",
    "# Put your code here to estimate the cost function\n",
    "    y_hat=np.matmul(X,beta)\n",
    "    diff=y-y_hat\n",
    "    norm = np.linalg.norm(diff)\n",
    "    norm_beta = np.linalg.norm(beta)\n",
    "    norm_sq = norm_beta**2\n",
    "    cost=norm**2+ lambda1*norm_sq\n",
    "    return cost\n",
    "\n",
    "def computeGrad(X, y,lambda1,beta):\n",
    "# Put your code here to estimate the Gradient function\n",
    "    y_hat=np.matmul(X,beta)\n",
    "    diff=y-y_hat\n",
    "    gradient= -2*np.dot(X.T,diff)+ 2*np.dot(lambda1,beta)\n",
    "    return gradient\n",
    "  \n"
   ]
  },
  {
   "cell_type": "markdown",
   "metadata": {},
   "source": [
    "(b) Let's use Gradient Descent to update parameter until convergence, please try different stepsize to see the Convergence performance. "
   ]
  },
  {
   "cell_type": "code",
   "execution_count": 66,
   "metadata": {},
   "outputs": [
    {
     "name": "stdout",
     "output_type": "stream",
     "text": [
      "Gradient descent with  500 iterations. step_size=0.0000001 and initial beta=[-1.00000,-1.50000]\n",
      "\n",
      "Iteration 0 --- beta:[ -1.00000, -1.50000] --- Cost: 19409.36672 \n",
      "Iteration 50 --- beta:[ -0.95770, -1.45751] --- Cost: 18690.64133 \n",
      "Iteration 100 --- beta:[ -0.91621, -1.41583] --- Cost: 17998.96877 \n",
      "Iteration 150 --- beta:[ -0.87551, -1.37494] --- Cost: 17333.33077 \n",
      "Iteration 200 --- beta:[ -0.83558, -1.33483] --- Cost: 16692.74737 \n",
      "Iteration 250 --- beta:[ -0.79641, -1.29548] --- Cost: 16076.27553 \n",
      "Iteration 300 --- beta:[ -0.75799, -1.25687] --- Cost: 15483.00767 \n",
      "Iteration 350 --- beta:[ -0.72030, -1.21899] --- Cost: 14912.07040 \n",
      "Iteration 400 --- beta:[ -0.68332, -1.18183] --- Cost: 14362.62318 \n",
      "Iteration 450 --- beta:[ -0.64706, -1.14538] --- Cost: 13833.85714 \n",
      "\n",
      " final beta: [ -0.61148, -1.10962] \n",
      "\n",
      "Gradient descent with  500 iterations. step_size=0.000001 and initial beta=[-1.00000,-1.50000]\n",
      "\n",
      "Iteration 0 --- beta:[ -1.00000, -1.50000] --- Cost: 19409.36672 \n",
      "Iteration 50 --- beta:[ -0.61087, -1.10901] --- Cost: 13316.35763 \n",
      "Iteration 100 --- beta:[ -0.28992, -0.78622] --- Cost: 9167.58771 \n",
      "Iteration 150 --- beta:[ -0.02523, -0.51971] --- Cost: 6342.66000 \n",
      "Iteration 200 --- beta:[ 0.19303, -0.29965] --- Cost: 4419.14312 \n",
      "Iteration 250 --- beta:[ 0.37299, -0.11792] --- Cost: 3109.40143 \n",
      "Iteration 300 --- beta:[ 0.52133, 0.03220] --- Cost: 2217.58240 \n",
      "Iteration 350 --- beta:[ 0.64359, 0.15621] --- Cost: 1610.32906 \n",
      "Iteration 400 --- beta:[ 0.74433, 0.25869] --- Cost: 1196.83799 \n",
      "Iteration 450 --- beta:[ 0.82731, 0.34340] --- Cost: 915.28068 \n",
      "\n",
      " final beta: [ 0.89564, 0.41345] \n",
      "\n",
      "Gradient descent with  500 iterations. step_size=0.00001 and initial beta=[-1.00000,-1.50000]\n",
      "\n",
      "Iteration 0 --- beta:[ -1.00000, -1.50000] --- Cost: 19409.36672 \n",
      "Iteration 50 --- beta:[ 0.90657, 0.42439] --- Cost: 696.61596 \n",
      "Iteration 100 --- beta:[ 1.16916, 0.70373] --- Cost: 321.87769 \n",
      "Iteration 150 --- beta:[ 1.19947, 0.75008] --- Cost: 314.12716 \n",
      "Iteration 200 --- beta:[ 1.19718, 0.76322] --- Cost: 313.73950 \n",
      "Iteration 250 --- beta:[ 1.19053, 0.77140] --- Cost: 313.51674 \n",
      "Iteration 300 --- beta:[ 1.18351, 0.77863] --- Cost: 313.31349 \n",
      "Iteration 350 --- beta:[ 1.17667, 0.78550] --- Cost: 313.12563 \n",
      "Iteration 400 --- beta:[ 1.17009, 0.79209] --- Cost: 312.95195 \n",
      "Iteration 450 --- beta:[ 1.16375, 0.79843] --- Cost: 312.79138 \n",
      "\n",
      " final beta: [ 1.15765, 0.80452] \n",
      "\n",
      "Gradient descent with  500 iterations. step_size=0.0001 and initial beta=[-1.00000,-1.50000]\n",
      "\n",
      "Iteration 0 --- beta:[ -1.00000, -1.50000] --- Cost: 19409.36672 \n",
      "Iteration 50 --- beta:[ 1.15744, 0.80473] --- Cost: 312.63786 \n",
      "Iteration 100 --- beta:[ 1.10794, 0.85422] --- Cost: 311.64931 \n",
      "Iteration 150 --- beta:[ 1.07455, 0.88760] --- Cost: 311.19944 \n",
      "Iteration 200 --- beta:[ 1.05203, 0.91012] --- Cost: 310.99472 \n",
      "Iteration 250 --- beta:[ 1.03683, 0.92532] --- Cost: 310.90155 \n",
      "Iteration 300 --- beta:[ 1.02658, 0.93556] --- Cost: 310.85915 \n",
      "Iteration 350 --- beta:[ 1.01966, 0.94248] --- Cost: 310.83985 \n",
      "Iteration 400 --- beta:[ 1.01500, 0.94714] --- Cost: 310.83107 \n",
      "Iteration 450 --- beta:[ 1.01185, 0.95029] --- Cost: 310.82708 \n",
      "\n",
      " final beta: [ 1.00973, 0.95241] \n",
      "\n"
     ]
    }
   ],
   "source": [
    "def gradientDescent(X, y, beta, step_size, numIterations):\n",
    "    beta_values=[]\n",
    "    loss_values=[]\n",
    "    for i in range(0, numIterations):\n",
    "        cost=computeCost(X,y,lambda1,beta)\n",
    "        loss_values.append(cost)\n",
    "        if i%50==0:\n",
    "            print(\"Iteration %d --- beta:[ %0.5f, %0.5f] --- Cost: %0.5f \" % (i, beta.flatten()[0],beta.flatten()[1],cost))\n",
    "        gradient = computeGrad(X, y,lambda1, beta)\n",
    "        beta = beta - step_size*gradient\n",
    "        beta_values.append(beta)\n",
    "    print(\"\\n final beta: [ %0.5f, %0.5f] \\n\"%(beta.flatten()[0],beta.flatten()[1]))\n",
    "    return beta,beta_values,loss_values\n",
    "numIterations=500\n",
    "step_size_1=0.0000001\n",
    "init_beta=np.array([[-1],[-1.5]])\n",
    "print(\"Gradient descent with %4d iterations. step_size=%8.7f and initial beta=[%0.5f,%0.5f]\\n\"%(numIterations,step_size_1,init_beta.flatten()[0],init_beta.flatten()[1]))\n",
    "beta,beta_values,loss_values_1=gradientDescent(X, y, init_beta, step_size_1, numIterations)\n",
    "step_size_2=0.000001\n",
    "print(\"Gradient descent with %4d iterations. step_size=%8.6f and initial beta=[%0.5f,%0.5f]\\n\"%(numIterations,step_size_2,init_beta.flatten()[0],init_beta.flatten()[1]))\n",
    "beta,beta_values,loss_values_2=gradientDescent(X, y, init_beta, step_size_2, numIterations)\n",
    "step_size_3=0.00001\n",
    "print(\"Gradient descent with %4d iterations. step_size=%6.5f and initial beta=[%0.5f,%0.5f]\\n\"%(numIterations,step_size_3,init_beta.flatten()[0],init_beta.flatten()[1]))\n",
    "beta,beta_values,loss_values_3=gradientDescent(X, y, init_beta, step_size_3, numIterations)\n",
    "step_size_4=0.0001\n",
    "print(\"Gradient descent with %4d iterations. step_size=%6.4f and initial beta=[%0.5f,%0.5f]\\n\"%(numIterations,step_size_4,init_beta.flatten()[0],init_beta.flatten()[1]))\n",
    "beta,beta_values,loss_values_3=gradientDescent(X, y, init_beta, step_size_4, numIterations)\n",
    "\n",
    "\n",
    "  "
   ]
  },
  {
   "cell_type": "markdown",
   "metadata": {},
   "source": [
    "(c) Normally, it is good to visualize the loss function over time, please plot the loss (cost) function for theta in each iteration. "
   ]
  },
  {
   "cell_type": "code",
   "execution_count": 67,
   "metadata": {},
   "outputs": [
    {
     "data": {
      "text/plain": [
       "<matplotlib.legend.Legend at 0x22541ed8da0>"
      ]
     },
     "execution_count": 67,
     "metadata": {},
     "output_type": "execute_result"
    },
    {
     "data": {
      "image/png": "[encoded data removed]",
      "text/plain": [
       "<matplotlib.figure.Figure at 0x225415df400>"
      ]
     },
     "metadata": {},
     "output_type": "display_data"
    }
   ],
   "source": [
    "plt.plot(loss_values_1,label=r'$\\alpha=$'+str(step_size_1))\n",
    "plt.plot(loss_values_2,label=r'$\\alpha=$'+str(step_size_2))\n",
    "plt.plot(loss_values_3,label=r'$\\alpha=$'+str(step_size_3))\n",
    "plt.gca().set_ylabel('loss')\n",
    "plt.gca().set_xlabel('iteration')\n",
    "plt.gca().set_title('Loss function for different step sizes')\n",
    "plt.legend()\n"
   ]
  },
  {
   "cell_type": "code",
   "execution_count": null,
   "metadata": {
    "collapsed": true
   },
   "outputs": [],
   "source": []
  }
 ],
 "metadata": {
  "anaconda-cloud": {},
  "kernelspec": {
   "display_name": "Python 3",
   "language": "python",
   "name": "python3"
  },
  "language_info": {
   "codemirror_mode": {
    "name": "ipython",
    "version": 3
   },
   "file_extension": ".py",
   "mimetype": "text/x-python",
   "name": "python",
   "nbconvert_exporter": "python",
   "pygments_lexer": "ipython3",
   "version": "3.6.3"
  }
 },
 "nbformat": 4,
 "nbformat_minor": 1
}
