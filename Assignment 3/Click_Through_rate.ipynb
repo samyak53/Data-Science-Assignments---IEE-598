{
 "cells": [
  {
   "cell_type": "markdown",
   "metadata": {},
   "source": [
    "# Problem 2\n",
    "\n",
    "The data is a subset of data from the [Click-Through Rate Prediction](https://www.kaggle.com/c/avazu-ctr-prediction/data). You will explore using Logistic Regression and SVM for this problem.\n",
    "\n",
    "Data fields\n",
    "- id: ad identifier\n",
    "- click: 0/1 for non-click/click\n",
    "- hour: format is YYMMDDHH, so 14091123 means 23:00 on Sept. 11, 2014 UTC.\n",
    "- C1 -- anonymized categorical variable\n",
    "- banner_pos\n",
    "- site_id\n",
    "- site_domain\n",
    "- site_category\n",
    "- app_id\n",
    "- app_domain\n",
    "- app_category\n",
    "- device_id\n",
    "- device_ip\n",
    "- device_model\n",
    "- device_type\n",
    "- device_conn_type\n",
    "- C14-C21 -- anonymized categorical variables\n",
    "\n",
    "The input variables are 'hour' up to 'C21', however, we will not use all of them.\n",
    "The output variable is 'click', which is a binary variable.\n",
    "\n",
    "Let's first read the data!"
   ]
  },
  {
   "cell_type": "code",
   "execution_count": 22,
   "metadata": {
    "collapsed": true
   },
   "outputs": [],
   "source": [
    "import pandas as pd\n",
    "import numpy as np\n",
    "data = pd.read_csv('trainsubset.csv')\n"
   ]
  },
  {
   "cell_type": "markdown",
   "metadata": {},
   "source": [
    "It is recommended to use only the first 10000 data for training the data. We will talk about the techniques to handle big data later"
   ]
  },
  {
   "cell_type": "code",
   "execution_count": 23,
   "metadata": {
    "collapsed": true
   },
   "outputs": [],
   "source": [
    "data = data.head(10000)"
   ]
  },
  {
   "cell_type": "markdown",
   "metadata": {
    "collapsed": true
   },
   "source": [
    "# Part 1: Training and testing split\n",
    "\n",
    "Let's start with defining the training data matrix X and response y. \n",
    "You need to use get_dummies to create the dummy variable with these only selected columns. Please select the response y as the click rate.\n"
   ]
  },
  {
   "cell_type": "code",
   "execution_count": 24,
   "metadata": {},
   "outputs": [
    {
     "data": {
      "text/html": [
       "<div>\n",
       "<style>\n",
       "    .dataframe thead tr:only-child th {\n",
       "        text-align: right;\n",
       "    }\n",
       "\n",
       "    .dataframe thead th {\n",
       "        text-align: left;\n",
       "    }\n",
       "\n",
       "    .dataframe tbody tr th {\n",
       "        vertical-align: top;\n",
       "    }\n",
       "</style>\n",
       "<table border=\"1\" class=\"dataframe\">\n",
       "  <thead>\n",
       "    <tr style=\"text-align: right;\">\n",
       "      <th></th>\n",
       "      <th>C1</th>\n",
       "      <th>banner_pos</th>\n",
       "      <th>device_type</th>\n",
       "      <th>device_conn_type</th>\n",
       "      <th>C14</th>\n",
       "      <th>C15</th>\n",
       "      <th>C16</th>\n",
       "      <th>C17</th>\n",
       "      <th>C18</th>\n",
       "      <th>C19</th>\n",
       "      <th>...</th>\n",
       "      <th>site_category_3e814130</th>\n",
       "      <th>site_category_50e219e0</th>\n",
       "      <th>site_category_72722551</th>\n",
       "      <th>site_category_75fa27f6</th>\n",
       "      <th>site_category_76b2941d</th>\n",
       "      <th>site_category_a818d37a</th>\n",
       "      <th>site_category_bcf865d9</th>\n",
       "      <th>site_category_c0dd3be3</th>\n",
       "      <th>site_category_f028772b</th>\n",
       "      <th>site_category_f66779e6</th>\n",
       "    </tr>\n",
       "  </thead>\n",
       "  <tbody>\n",
       "    <tr>\n",
       "      <th>0</th>\n",
       "      <td>1005</td>\n",
       "      <td>0</td>\n",
       "      <td>1</td>\n",
       "      <td>2</td>\n",
       "      <td>15706</td>\n",
       "      <td>320</td>\n",
       "      <td>50</td>\n",
       "      <td>1722</td>\n",
       "      <td>0</td>\n",
       "      <td>35</td>\n",
       "      <td>...</td>\n",
       "      <td>0</td>\n",
       "      <td>0</td>\n",
       "      <td>0</td>\n",
       "      <td>0</td>\n",
       "      <td>0</td>\n",
       "      <td>0</td>\n",
       "      <td>0</td>\n",
       "      <td>0</td>\n",
       "      <td>0</td>\n",
       "      <td>0</td>\n",
       "    </tr>\n",
       "    <tr>\n",
       "      <th>1</th>\n",
       "      <td>1005</td>\n",
       "      <td>0</td>\n",
       "      <td>1</td>\n",
       "      <td>0</td>\n",
       "      <td>15704</td>\n",
       "      <td>320</td>\n",
       "      <td>50</td>\n",
       "      <td>1722</td>\n",
       "      <td>0</td>\n",
       "      <td>35</td>\n",
       "      <td>...</td>\n",
       "      <td>0</td>\n",
       "      <td>0</td>\n",
       "      <td>0</td>\n",
       "      <td>0</td>\n",
       "      <td>0</td>\n",
       "      <td>0</td>\n",
       "      <td>0</td>\n",
       "      <td>0</td>\n",
       "      <td>0</td>\n",
       "      <td>0</td>\n",
       "    </tr>\n",
       "    <tr>\n",
       "      <th>2</th>\n",
       "      <td>1005</td>\n",
       "      <td>0</td>\n",
       "      <td>1</td>\n",
       "      <td>0</td>\n",
       "      <td>15704</td>\n",
       "      <td>320</td>\n",
       "      <td>50</td>\n",
       "      <td>1722</td>\n",
       "      <td>0</td>\n",
       "      <td>35</td>\n",
       "      <td>...</td>\n",
       "      <td>0</td>\n",
       "      <td>0</td>\n",
       "      <td>0</td>\n",
       "      <td>0</td>\n",
       "      <td>0</td>\n",
       "      <td>0</td>\n",
       "      <td>0</td>\n",
       "      <td>0</td>\n",
       "      <td>0</td>\n",
       "      <td>0</td>\n",
       "    </tr>\n",
       "    <tr>\n",
       "      <th>3</th>\n",
       "      <td>1005</td>\n",
       "      <td>0</td>\n",
       "      <td>1</td>\n",
       "      <td>0</td>\n",
       "      <td>15706</td>\n",
       "      <td>320</td>\n",
       "      <td>50</td>\n",
       "      <td>1722</td>\n",
       "      <td>0</td>\n",
       "      <td>35</td>\n",
       "      <td>...</td>\n",
       "      <td>0</td>\n",
       "      <td>0</td>\n",
       "      <td>0</td>\n",
       "      <td>0</td>\n",
       "      <td>0</td>\n",
       "      <td>0</td>\n",
       "      <td>0</td>\n",
       "      <td>0</td>\n",
       "      <td>0</td>\n",
       "      <td>0</td>\n",
       "    </tr>\n",
       "    <tr>\n",
       "      <th>4</th>\n",
       "      <td>1005</td>\n",
       "      <td>1</td>\n",
       "      <td>1</td>\n",
       "      <td>0</td>\n",
       "      <td>18993</td>\n",
       "      <td>320</td>\n",
       "      <td>50</td>\n",
       "      <td>2161</td>\n",
       "      <td>0</td>\n",
       "      <td>35</td>\n",
       "      <td>...</td>\n",
       "      <td>0</td>\n",
       "      <td>0</td>\n",
       "      <td>0</td>\n",
       "      <td>0</td>\n",
       "      <td>0</td>\n",
       "      <td>0</td>\n",
       "      <td>0</td>\n",
       "      <td>0</td>\n",
       "      <td>0</td>\n",
       "      <td>0</td>\n",
       "    </tr>\n",
       "  </tbody>\n",
       "</table>\n",
       "<p>5 rows × 685 columns</p>\n",
       "</div>"
      ],
      "text/plain": [
       "     C1  banner_pos  device_type  device_conn_type    C14  C15  C16   C17  \\\n",
       "0  1005           0            1                 2  15706  320   50  1722   \n",
       "1  1005           0            1                 0  15704  320   50  1722   \n",
       "2  1005           0            1                 0  15704  320   50  1722   \n",
       "3  1005           0            1                 0  15706  320   50  1722   \n",
       "4  1005           1            1                 0  18993  320   50  2161   \n",
       "\n",
       "   C18  C19           ...            site_category_3e814130  \\\n",
       "0    0   35           ...                                 0   \n",
       "1    0   35           ...                                 0   \n",
       "2    0   35           ...                                 0   \n",
       "3    0   35           ...                                 0   \n",
       "4    0   35           ...                                 0   \n",
       "\n",
       "   site_category_50e219e0  site_category_72722551  site_category_75fa27f6  \\\n",
       "0                       0                       0                       0   \n",
       "1                       0                       0                       0   \n",
       "2                       0                       0                       0   \n",
       "3                       0                       0                       0   \n",
       "4                       0                       0                       0   \n",
       "\n",
       "   site_category_76b2941d  site_category_a818d37a  site_category_bcf865d9  \\\n",
       "0                       0                       0                       0   \n",
       "1                       0                       0                       0   \n",
       "2                       0                       0                       0   \n",
       "3                       0                       0                       0   \n",
       "4                       0                       0                       0   \n",
       "\n",
       "   site_category_c0dd3be3  site_category_f028772b  site_category_f66779e6  \n",
       "0                       0                       0                       0  \n",
       "1                       0                       0                       0  \n",
       "2                       0                       0                       0  \n",
       "3                       0                       0                       0  \n",
       "4                       0                       0                       0  \n",
       "\n",
       "[5 rows x 685 columns]"
      ]
     },
     "execution_count": 24,
     "metadata": {},
     "output_type": "execute_result"
    }
   ],
   "source": [
    "selected_columns = ['C1','site_domain','app_id','app_domain','site_category','banner_pos','device_type','device_conn_type','C14','C15','C16','C17','C18','C19']\n",
    "# Please put your code here to define the data matrix X and y\n",
    "y = data['click']\n",
    "data1= data[selected_columns]\n",
    "X = pd.get_dummies(data1)\n",
    "X.head()\n"
   ]
  },
  {
   "cell_type": "code",
   "execution_count": 25,
   "metadata": {},
   "outputs": [
    {
     "data": {
      "text/plain": [
       "(10000, 685)"
      ]
     },
     "execution_count": 25,
     "metadata": {},
     "output_type": "execute_result"
    }
   ],
   "source": [
    "X.shape"
   ]
  },
  {
   "cell_type": "code",
   "execution_count": 26,
   "metadata": {},
   "outputs": [
    {
     "data": {
      "text/plain": [
       "array([[0],\n",
       "       [0],\n",
       "       [0],\n",
       "       ..., \n",
       "       [1],\n",
       "       [0],\n",
       "       [0]], dtype=int64)"
      ]
     },
     "execution_count": 26,
     "metadata": {},
     "output_type": "execute_result"
    }
   ],
   "source": [
    "y.values.reshape(-1,1)"
   ]
  },
  {
   "cell_type": "code",
   "execution_count": 27,
   "metadata": {},
   "outputs": [
    {
     "data": {
      "text/plain": [
       "(10000,)"
      ]
     },
     "execution_count": 27,
     "metadata": {},
     "output_type": "execute_result"
    }
   ],
   "source": [
    "y.shape"
   ]
  },
  {
   "cell_type": "code",
   "execution_count": 28,
   "metadata": {},
   "outputs": [
    {
     "name": "stdout",
     "output_type": "stream",
     "text": [
      "8294 of zeros in response variable\n",
      "1706 of ones in response variable\n"
     ]
    }
   ],
   "source": [
    "print('%d of zeros in response variable'%np.sum(y==0))\n",
    "print('%d of ones in response variable'%np.sum(y==1))"
   ]
  },
  {
   "cell_type": "code",
   "execution_count": 29,
   "metadata": {
    "collapsed": true
   },
   "outputs": [],
   "source": [
    "from sklearn.model_selection import train_test_split\n",
    "X_train1, X_test1, y_train, y_test = train_test_split(X, y, test_size=0.33, random_state=12)"
   ]
  },
  {
   "cell_type": "markdown",
   "metadata": {},
   "source": [
    "# Part 2.1: SVM\n",
    "\n",
    "Let's Start with SVM. Please use svm.LinearSVC, Let's try to add balanced weight to handle the class-imbalance issue. \n",
    " 1. please compute the precision/recall, f1-score, and confusion matrix. \n",
    " 2. Please run the algorithm for multiple times and observe the result. "
   ]
  },
  {
   "cell_type": "code",
   "execution_count": 30,
   "metadata": {
    "collapsed": true
   },
   "outputs": [],
   "source": [
    "from sklearn import svm\n",
    "from sklearn.metrics import classification_report\n",
    "from sklearn.metrics import matthews_corrcoef\n",
    "from sklearn.metrics import confusion_matrix\n",
    "from sklearn.svm import LinearSVC\n",
    "import seaborn as sns\n",
    "import matplotlib.pyplot as plt\n",
    "%matplotlib inline\n",
    "plt.style.use('seaborn-white')\n",
    "\n",
    "from sklearn import preprocessing\n",
    "from sklearn.model_selection import GridSearchCV\n",
    "from sklearn.utils import shuffle\n",
    "from sklearn.metrics import roc_curve, auc"
   ]
  },
  {
   "cell_type": "code",
   "execution_count": 31,
   "metadata": {
    "collapsed": true
   },
   "outputs": [],
   "source": [
    "X_train = preprocessing.scale(X_train1)\n",
    "X_test = preprocessing.scale(X_test1)"
   ]
  },
  {
   "cell_type": "code",
   "execution_count": 33,
   "metadata": {},
   "outputs": [
    {
     "name": "stdout",
     "output_type": "stream",
     "text": [
      "1772\n"
     ]
    }
   ],
   "source": [
    "clf = LinearSVC(class_weight='balanced',random_state=12)\n",
    "clf.fit(X_train,y_train)\n",
    "y_pred_SVC = clf.predict(X_test)\n",
    "print(y_pred_SVC.sum())"
   ]
  },
  {
   "cell_type": "code",
   "execution_count": 34,
   "metadata": {},
   "outputs": [
    {
     "name": "stdout",
     "output_type": "stream",
     "text": [
      "[[1403 1341]\n",
      " [ 125  431]]\n"
     ]
    }
   ],
   "source": [
    "y_pred_SVC = (clf.predict(X_test))\n",
    "cm = confusion_matrix(y_test, y_pred_SVC)\n",
    "print(cm)"
   ]
  },
  {
   "cell_type": "code",
   "execution_count": 35,
   "metadata": {},
   "outputs": [
    {
     "name": "stdout",
     "output_type": "stream",
     "text": [
      "             precision    recall  f1-score   support\n",
      "\n",
      "          0       0.92      0.51      0.66      2744\n",
      "          1       0.24      0.78      0.37       556\n",
      "\n",
      "avg / total       0.80      0.56      0.61      3300\n",
      "\n",
      "0.215043354227\n"
     ]
    }
   ],
   "source": [
    "print(classification_report(y_test,y_pred_SVC))\n",
    "print(matthews_corrcoef(y_test,y_pred_SVC))"
   ]
  },
  {
   "cell_type": "code",
   "execution_count": 43,
   "metadata": {
    "scrolled": false
   },
   "outputs": [
    {
     "name": "stdout",
     "output_type": "stream",
     "text": [
      "for loop: 0 \n",
      " [[1473 1259]\n",
      " [ 147  421]] \n",
      "\n",
      "Accuracy of SVM classifier on test set: 0.17 \n",
      "\n",
      "for loop: 1 \n",
      " [[1426 1302]\n",
      " [ 147  425]] \n",
      "\n",
      "Accuracy of SVM classifier on test set: 0.81 \n",
      "\n",
      "for loop: 2 \n",
      " [[1390 1356]\n",
      " [ 144  410]] \n",
      "\n",
      "Accuracy of SVM classifier on test set: 0.17 \n",
      "\n",
      "for loop: 3 \n",
      " [[1388 1360]\n",
      " [ 141  411]] \n",
      "\n",
      "Accuracy of SVM classifier on test set: 0.17 \n",
      "\n",
      "for loop: 4 \n",
      " [[1438 1296]\n",
      " [ 150  416]] \n",
      "\n",
      "Accuracy of SVM classifier on test set: 0.19 \n",
      "\n",
      "for loop: 5 \n",
      " [[1407 1326]\n",
      " [ 162  405]] \n",
      "\n",
      "Accuracy of SVM classifier on test set: 0.83 \n",
      "\n",
      "for loop: 6 \n",
      " [[1388 1347]\n",
      " [ 127  438]] \n",
      "\n",
      "Accuracy of SVM classifier on test set: 0.83 \n",
      "\n",
      "for loop: 7 \n",
      " [[1427 1312]\n",
      " [ 162  399]] \n",
      "\n",
      "Accuracy of SVM classifier on test set: 0.83 \n",
      "\n",
      "for loop: 8 \n",
      " [[1399 1301]\n",
      " [ 131  469]] \n",
      "\n",
      "Accuracy of SVM classifier on test set: 0.82 \n",
      "\n",
      "for loop: 9 \n",
      " [[1390 1340]\n",
      " [ 122  448]] \n",
      "\n",
      "Accuracy of SVM classifier on test set: 0.83 \n",
      "\n"
     ]
    }
   ],
   "source": [
    "for i in range(10):\n",
    "    X_train, X_test, y_train, y_test = train_test_split(X, y, test_size=.33,random_state=i)\n",
    "    clf = LinearSVC(class_weight='balanced')\n",
    "    X_train_SV = preprocessing.scale(X_train)\n",
    "    X_test_SV = preprocessing.scale(X_test)\n",
    "    clf.fit(X_train_SV,y_train)\n",
    "    y_pred_SV = clf.predict(X_test_SV)\n",
    "    conf = confusion_matrix(y_test, y_pred_SV)\n",
    "    classif = classification_report(y_test,y_pred_SV)\n",
    "    matt_ = matthews_corrcoef(y_test,y_pred_SV)\n",
    "    print(\"for loop:\",i,'\\n',conf,'\\n')\n",
    "    print('Accuracy of SVM classifier on test set: {:.2f}'.format(clf.score(X_test, y_test)),'\\n')"
   ]
  },
  {
   "cell_type": "markdown",
   "metadata": {},
   "source": [
    "# Part 2.2 Regularized SVM\n",
    "\n",
    "1. Let's try to add penalty, please exlpore the use of the 'l1' and'l2' penalty in Scikit-learn, Please also use cross validation to select the best tuning parameters C.\n",
    "2. please compute the precision/recall, f1-score, and confusion matrix for 'l1' and 'l2' model with the best tuning paramter C.\n",
    "\n"
   ]
  },
  {
   "cell_type": "code",
   "execution_count": 84,
   "metadata": {},
   "outputs": [
    {
     "name": "stdout",
     "output_type": "stream",
     "text": [
      "best parameters: {'C': 0.1} ,testing accuracy: 0.549393939394\n",
      "Confusion matrix \n",
      " [[1368 1362]\n",
      " [ 125  445]]\n",
      "\n",
      " classification matrix \n",
      "\n",
      "              precision    recall  f1-score   support\n",
      "\n",
      "          0       0.92      0.50      0.65      2730\n",
      "          1       0.25      0.78      0.37       570\n",
      "\n",
      "avg / total       0.80      0.55      0.60      3300\n",
      "\n",
      "Correlation coefficient: 0.214018723881\n"
     ]
    }
   ],
   "source": [
    "Cs = [0.01,0.1,1,10,100,1000]\n",
    "parameters = {'C':Cs}\n",
    "svc = LinearSVC(random_state = 12, penalty = 'l1',class_weight = 'balanced',dual = False)\n",
    "clf = GridSearchCV(svc, parameters,return_train_score=True,n_jobs =-1,cv=5)\n",
    "clf.fit(X_train, y_train)\n",
    "print('best parameters:',clf.best_params_,',testing accuracy:',clf.best_estimator_.score(X_test,y_test))\n",
    "y_pred = clf.predict(X_test)\n",
    "conf = confusion_matrix(y_test, y_pred)\n",
    "classif = classification_report(y_test,y_pred)\n",
    "matt_ = matthews_corrcoef(y_test,y_pred)\n",
    "print(\"Confusion matrix\",'\\n',conf)\n",
    "print('\\n',\"classification matrix\",'\\n\\n',classif)\n",
    "print(\"Correlation coefficient:\",matt_)"
   ]
  },
  {
   "cell_type": "code",
   "execution_count": 85,
   "metadata": {},
   "outputs": [
    {
     "name": "stdout",
     "output_type": "stream",
     "text": [
      "best parameters: {'C': 0.01} ,testing accuracy: 0.554242424242\n",
      "Confusion matrix \n",
      " [[1384 1346]\n",
      " [ 125  445]]\n",
      "\n",
      " classification matrix \n",
      "\n",
      "              precision    recall  f1-score   support\n",
      "\n",
      "          0       0.92      0.51      0.65      2730\n",
      "          1       0.25      0.78      0.38       570\n",
      "\n",
      "avg / total       0.80      0.55      0.61      3300\n",
      "\n",
      "Correlation coefficient: 0.218277022473\n"
     ]
    }
   ],
   "source": [
    "Cs = [0.01,0.1,1,10,100,1000]\n",
    "parameters = {'C':Cs}\n",
    "svc = LinearSVC(random_state = 12, penalty = 'l2',class_weight = 'balanced',dual = False)\n",
    "clf = GridSearchCV(svc, parameters,return_train_score=True,n_jobs =-1,cv=5)\n",
    "clf.fit(X_train, y_train)\n",
    "print('best parameters:',clf.best_params_,',testing accuracy:',clf.best_estimator_.score(X_test,y_test))\n",
    "y_pred = clf2.predict(X_test)\n",
    "conf = confusion_matrix(y_test, y_pred)\n",
    "classif = classification_report(y_test,y_pred)\n",
    "matt_ = matthews_corrcoef(y_test,y_pred)\n",
    "print(\"Confusion matrix\",'\\n',conf)\n",
    "print('\\n',\"classification matrix\",'\\n\\n',classif)\n",
    "print(\"Correlation coefficient:\",matt_)"
   ]
  },
  {
   "cell_type": "markdown",
   "metadata": {},
   "source": [
    "# Part 3: Logistic Regression"
   ]
  },
  {
   "cell_type": "markdown",
   "metadata": {},
   "source": [
    "Please also explore using Logistic Regression on this problem and report the result. \n",
    "1. Please plot the ROC curve and compute the area under the ROC curve. (You don't need to explore the use of penalty since the cross validation can be very slow)\n",
    "2. Please plot the precision recall curve and compute the average precision\n",
    "3. Please compute the F1-score and confusion matrix."
   ]
  },
  {
   "cell_type": "code",
   "execution_count": 70,
   "metadata": {
    "collapsed": true
   },
   "outputs": [],
   "source": [
    "from sklearn.linear_model import LogisticRegression\n",
    "\n",
    "LogReg = LogisticRegression(class_weight = 'balanced',random_state = 12)\n",
    "LogReg.fit(X_train,y_train)\n",
    "y_pred_LR = LogReg.predict(X_test)\n",
    "y_score1 = LogReg.predict_proba(X_test)"
   ]
  },
  {
   "cell_type": "code",
   "execution_count": 71,
   "metadata": {},
   "outputs": [
    {
     "name": "stdout",
     "output_type": "stream",
     "text": [
      "Accuracy of logistic regression classifier on test set: 0.53\n"
     ]
    }
   ],
   "source": [
    "print('Accuracy of logistic regression classifier on test set: {:.2f}'.format(LogReg.score(X_test, y_test)))"
   ]
  },
  {
   "cell_type": "code",
   "execution_count": 72,
   "metadata": {
    "collapsed": true
   },
   "outputs": [],
   "source": [
    "from sklearn.utils import shuffle\n",
    "from sklearn.metrics import roc_curve, auc\n",
    "\n",
    "def ROC(label,result):\n",
    "    # Compute ROC curve and area the curve\n",
    "    fpr, tpr, thresholds = roc_curve(label, result)\n",
    "    roc_auc = auc(fpr, tpr)\n",
    "    print(\"Area under the ROC curve : %f\" % roc_auc)\n",
    "\n",
    "    # Plot ROC curve\n",
    "    #pl.clf()\n",
    "    plt.plot(fpr, tpr, label='ROC curve (area = %0.2f)' % roc_auc)\n",
    "    plt.plot([0, 1], [0, 1], 'k--')\n",
    "    plt.xlim([0.0, 1.0])\n",
    "    plt.ylim([0.0, 1.0])\n",
    "    plt.xlabel('False Positive Rate')\n",
    "    plt.ylabel('True Positive Rate')\n",
    "    plt.title('Receiver operating characteristic')\n",
    "    plt.legend(loc=\"lower right\")\n",
    "    plt.show()"
   ]
  },
  {
   "cell_type": "code",
   "execution_count": 73,
   "metadata": {},
   "outputs": [
    {
     "name": "stdout",
     "output_type": "stream",
     "text": [
      "Area under the ROC curve : 0.699871\n"
     ]
    },
    {
     "data": {
      "image/png": "[encoded data removed]",
      "text/plain": [
       "<matplotlib.figure.Figure at 0x2424acdcb00>"
      ]
     },
     "metadata": {},
     "output_type": "display_data"
    }
   ],
   "source": [
    "ROC(y_test,y_score1[:,1])"
   ]
  },
  {
   "cell_type": "code",
   "execution_count": 74,
   "metadata": {},
   "outputs": [
    {
     "data": {
      "text/plain": [
       "array([[ 0.7894815 ,  0.2105185 ],\n",
       "       [ 0.44762348,  0.55237652],\n",
       "       [ 0.83393286,  0.16606714],\n",
       "       ..., \n",
       "       [ 0.86689642,  0.13310358],\n",
       "       [ 0.49514951,  0.50485049],\n",
       "       [ 0.44768837,  0.55231163]])"
      ]
     },
     "execution_count": 74,
     "metadata": {},
     "output_type": "execute_result"
    }
   ],
   "source": [
    "y_score1"
   ]
  },
  {
   "cell_type": "code",
   "execution_count": 75,
   "metadata": {},
   "outputs": [
    {
     "name": "stdout",
     "output_type": "stream",
     "text": [
      "Average precision-recall score: 0.34\n"
     ]
    },
    {
     "data": {
      "text/plain": [
       "<matplotlib.text.Text at 0x2424ad9d208>"
      ]
     },
     "execution_count": 75,
     "metadata": {},
     "output_type": "execute_result"
    },
    {
     "data": {
      "image/png": "[encoded data removed]",
      "text/plain": [
       "<matplotlib.figure.Figure at 0x2424ad16f98>"
      ]
     },
     "metadata": {},
     "output_type": "display_data"
    }
   ],
   "source": [
    "from sklearn.metrics import precision_recall_curve\n",
    "from sklearn.metrics import average_precision_score\n",
    "\n",
    "average_precision = average_precision_score(y_test, y_score1[:,1])\n",
    "print('Average precision-recall score: {0:0.2f}'.format(average_precision))\n",
    "\n",
    "precision, recall, _ = precision_recall_curve(y_test, y_score1[:,1])\n",
    "plt.step(recall, precision, color='b', alpha=0.2,where='post')\n",
    "plt.fill_between(recall, precision, step='post', alpha=0.2,color='b')\n",
    "\n",
    "plt.xlabel('Recall')\n",
    "plt.ylabel('Precision')\n",
    "plt.ylim([0.0, 1.0])\n",
    "plt.xlim([0.0, 1.0])\n",
    "plt.title('2-class Precision-Recall curve: AP={0:0.2f}'.format(average_precision))"
   ]
  },
  {
   "cell_type": "code",
   "execution_count": 76,
   "metadata": {},
   "outputs": [
    {
     "name": "stdout",
     "output_type": "stream",
     "text": [
      "Confusion matrix \n",
      " [[1301 1429]\n",
      " [ 107  463]]\n",
      "\n",
      " classification matrix \n",
      "\n",
      "              precision    recall  f1-score   support\n",
      "\n",
      "          0       0.92      0.48      0.63      2730\n",
      "          1       0.24      0.81      0.38       570\n",
      "\n",
      "avg / total       0.81      0.53      0.59      3300\n",
      "\n"
     ]
    }
   ],
   "source": [
    "conf = confusion_matrix(y_test, y_pred_LR)\n",
    "classif = classification_report(y_test,y_pred_LR)\n",
    "print(\"Confusion matrix\",'\\n',conf)\n",
    "print('\\n',\"classification matrix\",'\\n\\n',classif)"
   ]
  },
  {
   "cell_type": "markdown",
   "metadata": {},
   "source": [
    "# Part 4: Random Forest\n",
    "\n",
    "Please also explore using Random Forest on this problem and report the result. \n",
    "1. Please use cross-validation to select the best tuning parameters\n",
    "2. Please plot the ROC curve and compute the area under the ROC curve. \n",
    "3. Please plot the precision recall curve and compute the average precision\n",
    "4. Please compute the F1-score and confusion matrix"
   ]
  },
  {
   "cell_type": "code",
   "execution_count": 77,
   "metadata": {},
   "outputs": [
    {
     "name": "stdout",
     "output_type": "stream",
     "text": [
      "0.611487620807\n"
     ]
    },
    {
     "data": {
      "text/plain": [
       "GridSearchCV(cv=3, error_score='raise',\n",
       "       estimator=RandomForestClassifier(bootstrap=True, class_weight='balanced',\n",
       "            criterion='gini', max_depth=None, max_features='auto',\n",
       "            max_leaf_nodes=None, min_impurity_split=1e-07,\n",
       "            min_samples_leaf=1, min_samples_split=2,\n",
       "            min_weight_fraction_leaf=0.0, n_estimators=10, n_jobs=1,\n",
       "            oob_score=False, random_state=12, verbose=0, warm_start=False),\n",
       "       fit_params={}, iid=True, n_jobs=-1,\n",
       "       param_grid={'max_depth': [2, 4, 8, 16, 32, 64], 'max_features': [0.1, 0.2, 0.3, 0.5, 0.9], 'min_samples_leaf': [2, 3, 4], 'min_samples_split': [2, 4, 6, 8], 'n_estimators': [4, 8, 16, 32]},\n",
       "       pre_dispatch='2*n_jobs', refit=True, return_train_score=True,\n",
       "       scoring=None, verbose=0)"
      ]
     },
     "execution_count": 77,
     "metadata": {},
     "output_type": "execute_result"
    }
   ],
   "source": [
    "from sklearn.ensemble import RandomForestClassifier\n",
    "from sklearn.datasets import make_classification\n",
    "from sklearn.cross_validation import cross_val_score\n",
    "from sklearn.model_selection import GridSearchCV\n",
    "\n",
    "Rndf_clf = RandomForestClassifier(class_weight = 'balanced',random_state = 12)\n",
    "print(np.mean(cross_val_score(Rndf_clf, X_train, y_train, cv=10)))\n",
    "param_grid = {\n",
    "    'max_depth':[2,4,8,16,32,64] ,\n",
    "    'max_features': [0.1,0.2,0.3,0.5,0.9],\n",
    "    'min_samples_leaf': [2, 3, 4],\n",
    "    'min_samples_split': [2, 4, 6, 8],\n",
    "    'n_estimators': [4,8,16,32]}\n",
    "\n",
    "grid_clf = GridSearchCV(Rndf_clf, param_grid, return_train_score=True,cv=3,n_jobs=-1)\n",
    "grid_clf.fit(X_train, y_train)"
   ]
  },
  {
   "cell_type": "code",
   "execution_count": 78,
   "metadata": {
    "collapsed": true
   },
   "outputs": [],
   "source": [
    "y_pred_rf = grid_clf.predict(X_test)"
   ]
  },
  {
   "cell_type": "code",
   "execution_count": 79,
   "metadata": {},
   "outputs": [
    {
     "name": "stdout",
     "output_type": "stream",
     "text": [
      "Accuracy:0.5842424242424242,Best parameters:{'max_depth': 16, 'max_features': 0.9, 'min_samples_leaf': 2, 'min_samples_split': 6, 'n_estimators': 8}\n"
     ]
    }
   ],
   "source": [
    "score = grid_clf.score(X_test, y_test)\n",
    "grid_clf.fit(X_train, y_train)\n",
    "print('Accuracy:{},Best parameters:{}'.format(score,grid_clf.best_params_))"
   ]
  },
  {
   "cell_type": "code",
   "execution_count": 80,
   "metadata": {
    "collapsed": true
   },
   "outputs": [],
   "source": [
    "def ROC(label,result):\n",
    "    # Compute ROC curve and area the curve\n",
    "    fpr2, tpr2, thresholds = roc_curve(label, result)\n",
    "    roc_auc = auc(fpr2, tpr2)\n",
    "    print(\"Area under the ROC curve : %f\" % roc_auc)\n",
    "\n",
    "    # Plot ROC curve\n",
    "    plt.plot(fpr2, tpr2, label='ROC curve (area = %0.2f)' % roc_auc)\n",
    "    plt.plot([0, 1], [0, 1], 'k--')\n",
    "    plt.xlim([0.0, 1.0])\n",
    "    plt.ylim([0.0, 1.0])\n",
    "    plt.xlabel('False Positive Rate')\n",
    "    plt.ylabel('True Positive Rate')\n",
    "    plt.title('Receiver operating characteristic')\n",
    "    plt.legend(loc=\"lower right\")\n",
    "    plt.show()\n"
   ]
  },
  {
   "cell_type": "code",
   "execution_count": 81,
   "metadata": {},
   "outputs": [
    {
     "name": "stdout",
     "output_type": "stream",
     "text": [
      "Area under the ROC curve : 0.686045\n"
     ]
    },
    {
     "data": {
      "image/png": "[encoded data removed]",
      "text/plain": [
       "<matplotlib.figure.Figure at 0x2424ad3cb70>"
      ]
     },
     "metadata": {},
     "output_type": "display_data"
    }
   ],
   "source": [
    "y_score2 = grid_clf.predict_proba(X_test)[:,1]\n",
    "ROC(y_test,y_score2)"
   ]
  },
  {
   "cell_type": "code",
   "execution_count": 82,
   "metadata": {},
   "outputs": [
    {
     "name": "stdout",
     "output_type": "stream",
     "text": [
      "Average precision-recall score: 0.32\n"
     ]
    },
    {
     "data": {
      "text/plain": [
       "<matplotlib.text.Text at 0x2424ad88ac8>"
      ]
     },
     "execution_count": 82,
     "metadata": {},
     "output_type": "execute_result"
    },
    {
     "data": {
      "image/png": "[encoded data removed]",
      "text/plain": [
       "<matplotlib.figure.Figure at 0x2424ad16be0>"
      ]
     },
     "metadata": {},
     "output_type": "display_data"
    }
   ],
   "source": [
    "average_precision = average_precision_score(y_test, y_score2)\n",
    "print('Average precision-recall score: {0:0.2f}'.format(average_precision))\n",
    "\n",
    "precision, recall, _ = precision_recall_curve(y_test, y_score2)\n",
    "plt.step(recall, precision, color='b', alpha=0.2,where='post')\n",
    "plt.fill_between(recall, precision, step='post', alpha=0.2,color='b')\n",
    "\n",
    "plt.xlabel('Recall')\n",
    "plt.ylabel('Precision')\n",
    "plt.ylim([0.0, 1.0])\n",
    "plt.xlim([0.0, 1.0])\n",
    "plt.title('2-class Precision-Recall curve: AP={0:0.2f}'.format(average_precision))"
   ]
  },
  {
   "cell_type": "code",
   "execution_count": 83,
   "metadata": {},
   "outputs": [
    {
     "name": "stdout",
     "output_type": "stream",
     "text": [
      "Confusion matrix \n",
      " [[1526 1204]\n",
      " [ 168  402]]\n",
      "\n",
      " classification matrix \n",
      "\n",
      "              precision    recall  f1-score   support\n",
      "\n",
      "          0       0.90      0.56      0.69      2730\n",
      "          1       0.25      0.71      0.37       570\n",
      "\n",
      "avg / total       0.79      0.58      0.63      3300\n",
      "\n"
     ]
    }
   ],
   "source": [
    "conf = confusion_matrix(y_test, y_pred_rf)\n",
    "classif = classification_report(y_test,y_pred_rf)\n",
    "print(\"Confusion matrix\",'\\n',conf)\n",
    "print('\\n',\"classification matrix\",'\\n\\n',classif)"
   ]
  },
  {
   "cell_type": "markdown",
   "metadata": {},
   "source": [
    "# Part 5: Gradient Boosting Tree\n",
    "Please try to implement the xgboost library to this dataset. \n",
    "1. Please use cross-validation to select the best tuning parameters\n",
    "2. Please plot the ROC curve and compute the area under the ROC curve. \n",
    "3. Please plot the precision recall curve and compute the average precision\n",
    "4. Please compute the F1-score and confusion matrix"
   ]
  },
  {
   "cell_type": "code",
   "execution_count": 32,
   "metadata": {
    "collapsed": true
   },
   "outputs": [],
   "source": [
    "from xgboost import XGBClassifier\n",
    "from sklearn.model_selection import GridSearchCV\n",
    "from sklearn.preprocessing import StandardScaler\n",
    "\n",
    "param_test1 = {\n",
    " 'max_depth':range(3,10,2),\n",
    " 'min_child_weight':range(1,6,2)\n",
    "}\n",
    "\n",
    "gsearch1 = GridSearchCV(estimator = XGBClassifier( learning_rate =0.1, n_estimators=140, max_depth=5,\n",
    " min_child_weight=1, gamma=0, subsample=0.8, colsample_bytree=0.8,\n",
    " objective= 'binary:logistic', nthread=4, scale_pos_weight=1, seed=12), \n",
    " param_grid = param_test1, scoring='accuracy',n_jobs=-1, cv=5)\n",
    "\n",
    "param_test3 = {\n",
    " 'gamma':[i/10.0 for i in range(0,5)]\n",
    "}\n"
   ]
  },
  {
   "cell_type": "code",
   "execution_count": 33,
   "metadata": {
    "collapsed": true
   },
   "outputs": [],
   "source": [
    "gsearch1.fit(X_train, y_train)\n",
    "score = gsearch1.score(X_test, y_test)"
   ]
  },
  {
   "cell_type": "code",
   "execution_count": 34,
   "metadata": {},
   "outputs": [
    {
     "name": "stdout",
     "output_type": "stream",
     "text": [
      "Accuracy:0.8321212121212122,Best parameters:{'max_depth': 3, 'min_child_weight': 5}\n"
     ]
    }
   ],
   "source": [
    "print('Accuracy:{},Best parameters:{}'.format(score,gsearch1.best_params_))"
   ]
  },
  {
   "cell_type": "code",
   "execution_count": 35,
   "metadata": {
    "collapsed": true
   },
   "outputs": [],
   "source": [
    "gsearch2 = GridSearchCV(estimator = XGBClassifier( learning_rate =0.1, n_estimators=140, max_depth=gsearch1.best_params_['max_depth'], min_child_weight=gsearch1.best_params_['min_child_weight'], gamma=0, subsample=0.8, colsample_bytree=0.8, objective= 'binary:logistic', nthread=4, scale_pos_weight=1,seed=12),  param_grid = param_test3, scoring='accuracy',n_jobs=-1, cv=5)\n",
    "gsearch2.fit(X_train, y_train)\n",
    "score = gsearch2.score(X_test, y_test)    \n"
   ]
  },
  {
   "cell_type": "code",
   "execution_count": 36,
   "metadata": {},
   "outputs": [
    {
     "name": "stdout",
     "output_type": "stream",
     "text": [
      "Accuracy:0.8327272727272728,Best parameters:{'gamma': 0.3}\n"
     ]
    }
   ],
   "source": [
    "print('Accuracy:{},Best parameters:{}'.format(score,gsearch2.best_params_))"
   ]
  },
  {
   "cell_type": "code",
   "execution_count": 37,
   "metadata": {
    "collapsed": true
   },
   "outputs": [],
   "source": [
    "def ROC(label,result):\n",
    "    # Compute ROC curve and area the curve\n",
    "    fpr2, tpr2, thresholds = roc_curve(label, result)\n",
    "    roc_auc = auc(fpr2, tpr2)\n",
    "    print(\"Area under the ROC curve : %f\" % roc_auc)\n",
    "\n",
    "    # Plot ROC curve\n",
    "    plt.plot(fpr2, tpr2, label='ROC curve (area = %0.2f)' % roc_auc)\n",
    "    plt.plot([0, 1], [0, 1], 'k--')\n",
    "    plt.xlim([0.0, 1.0])\n",
    "    plt.ylim([0.0, 1.0])\n",
    "    plt.xlabel('False Positive Rate')\n",
    "    plt.ylabel('True Positive Rate')\n",
    "    plt.title('Receiver operating characteristic')\n",
    "    plt.legend(loc=\"lower right\")\n",
    "    plt.show()\n",
    "\n"
   ]
  },
  {
   "cell_type": "code",
   "execution_count": 38,
   "metadata": {},
   "outputs": [
    {
     "name": "stdout",
     "output_type": "stream",
     "text": [
      "Area under the ROC curve : 0.681337\n"
     ]
    },
    {
     "data": {
      "image/png": "[encoded data removed]",
      "text/plain": [
       "<matplotlib.figure.Figure at 0x1d367b71438>"
      ]
     },
     "metadata": {},
     "output_type": "display_data"
    }
   ],
   "source": [
    "y_score2 = gsearch2.predict_proba(X_test)[:,1]\n",
    "ROC(y_test,y_score2)"
   ]
  },
  {
   "cell_type": "code",
   "execution_count": 39,
   "metadata": {},
   "outputs": [
    {
     "name": "stdout",
     "output_type": "stream",
     "text": [
      "Average precision-recall score: 0.30\n"
     ]
    },
    {
     "data": {
      "text/plain": [
       "Text(0.5,1,'2-class Precision-Recall curve: AP=0.30')"
      ]
     },
     "execution_count": 39,
     "metadata": {},
     "output_type": "execute_result"
    },
    {
     "data": {
      "image/png": "[encoded data removed]",
      "text/plain": [
       "<matplotlib.figure.Figure at 0x1d36eb15828>"
      ]
     },
     "metadata": {},
     "output_type": "display_data"
    }
   ],
   "source": [
    "from sklearn.metrics import precision_recall_curve\n",
    "from sklearn.metrics import average_precision_score\n",
    "\n",
    "average_precision = average_precision_score(y_test, y_score2)\n",
    "print('Average precision-recall score: {0:0.2f}'.format(average_precision))\n",
    "\n",
    "precision, recall, _ = precision_recall_curve(y_test, y_score2)\n",
    "plt.step(recall, precision, color='b', alpha=0.2,where='post')\n",
    "plt.fill_between(recall, precision, step='post', alpha=0.2,color='b')\n",
    "\n",
    "plt.xlabel('Recall')\n",
    "plt.ylabel('Precision')\n",
    "plt.ylim([0.0, 1.0])\n",
    "plt.xlim([0.0, 1.0])\n",
    "plt.title('2-class Precision-Recall curve: AP={0:0.2f}'.format(average_precision))"
   ]
  },
  {
   "cell_type": "code",
   "execution_count": 40,
   "metadata": {
    "collapsed": true
   },
   "outputs": [],
   "source": [
    "y_pred_xgb = gsearch2.predict(X_test)"
   ]
  },
  {
   "cell_type": "code",
   "execution_count": 41,
   "metadata": {},
   "outputs": [
    {
     "name": "stdout",
     "output_type": "stream",
     "text": [
      "Confusion matrix \n",
      " [[2740    4]\n",
      " [ 548    8]]\n",
      "\n",
      " classification matrix \n",
      "\n",
      "              precision    recall  f1-score   support\n",
      "\n",
      "          0       0.83      1.00      0.91      2744\n",
      "          1       0.67      0.01      0.03       556\n",
      "\n",
      "avg / total       0.81      0.83      0.76      3300\n",
      "\n"
     ]
    }
   ],
   "source": [
    "conf = confusion_matrix(y_test, y_pred_xgb)\n",
    "classif = classification_report(y_test,y_pred_xgb)\n",
    "print(\"Confusion matrix\",'\\n',conf)\n",
    "print('\\n',\"classification matrix\",'\\n\\n',classif)"
   ]
  }
 ],
 "metadata": {
  "kernelspec": {
   "display_name": "Python 3",
   "language": "python",
   "name": "python3"
  },
  "language_info": {
   "codemirror_mode": {
    "name": "ipython",
    "version": 3
   },
   "file_extension": ".py",
   "mimetype": "text/x-python",
   "name": "python",
   "nbconvert_exporter": "python",
   "pygments_lexer": "ipython3",
   "version": "3.6.1"
  }
 },
 "nbformat": 4,
 "nbformat_minor": 2
}
