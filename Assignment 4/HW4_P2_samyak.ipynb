{
 "cells": [
  {
   "cell_type": "markdown",
   "metadata": {},
   "source": [
    "# Problem 2\n",
    "\n",
    "This is the same problem of the Homework 3, but with the addition that we want to tackle the big data challenge!\n",
    "\n",
    "The data is a sample of the entire data from the [Click-Through Rate Prediction](https://www.kaggle.com/c/avazu-ctr-prediction/data). You will explore using Logistic Regression and SVM for this problem.\n",
    "\n",
    "Data fields\n",
    "- id: ad identifier\n",
    "- click: 0/1 for non-click/click\n",
    "- hour: format is YYMMDDHH, so 14091123 means 23:00 on Sept. 11, 2014 UTC.\n",
    "- C1 -- anonymized categorical variable\n",
    "- banner_pos\n",
    "- site_id\n",
    "- site_domain\n",
    "- site_category\n",
    "- app_id\n",
    "- app_domain\n",
    "- app_category\n",
    "- device_id\n",
    "- device_ip\n",
    "- device_model\n",
    "- device_type\n",
    "- device_conn_type\n",
    "- C14-C21 -- anonymized categorical variables\n",
    "\n",
    "The input variables are 'hour' up to 'C21', however, we will not use all of them.\n",
    "The output variable is 'click', which is a binary variable.\n",
    "\n"
   ]
  },
  {
   "cell_type": "code",
   "execution_count": 1,
   "metadata": {
    "collapsed": true
   },
   "outputs": [],
   "source": [
    "import pandas as pd\n",
    "import numpy as np\n",
    "from datetime import datetime, date, time\n",
    "from sklearn.linear_model import LogisticRegression,SGDClassifier\n",
    "from sklearn.feature_extraction import FeatureHasher\n",
    "from sklearn.preprocessing import LabelEncoder\n",
    "from sklearn.metrics import log_loss\n",
    "import scipy as sp\n",
    "from sklearn.metrics import roc_curve, auc\n",
    "import matplotlib.pyplot as plt \n",
    "%matplotlib inline"
   ]
  },
  {
   "cell_type": "markdown",
   "metadata": {},
   "source": [
    "### Part 0: Feature Hashing\n",
    "In the last example, we have demonstrate the use of `get_dummy`, we will use the `FeatureHasher` in this example, which is easier to handle the problem of inconsistent train and test categorical, which is a big problem in online learning.\n",
    "\n",
    "Let's first read the Testing Data! We will only load the first 10000 lines for illustration\n"
   ]
  },
  {
   "cell_type": "code",
   "execution_count": 2,
   "metadata": {
    "collapsed": false
   },
   "outputs": [],
   "source": [
    "data_test = pd.read_csv(\"clrtest\")\n",
    "data_test = data_test.head(10000)\n",
    "fh = FeatureHasher(n_features = 2**20, input_type=\"string\")\n",
    "\n",
    "y_test = data_test[\"click\"]\n",
    "X_test = fh.transform(np.asarray(data_test.iloc[:,4:].astype(str)))        \n"
   ]
  },
  {
   "cell_type": "code",
   "execution_count": 3,
   "metadata": {
    "collapsed": false
   },
   "outputs": [
    {
     "data": {
      "text/plain": [
       "(9999, 1048576)"
      ]
     },
     "execution_count": 3,
     "metadata": {},
     "output_type": "execute_result"
    }
   ],
   "source": [
    "X_test.shape"
   ]
  },
  {
   "cell_type": "markdown",
   "metadata": {},
   "source": [
    "### Read the training data with chunksize \n",
    "Please specify the reading from the pd.read_csv with chunksize to handle the big data. You need to define a reasonable chuck size by yourself"
   ]
  },
  {
   "cell_type": "code",
   "execution_count": 4,
   "metadata": {
    "collapsed": false
   },
   "outputs": [],
   "source": [
    "tp = pd.read_csv(\"clrtrain\", iterator=True, chunksize=1000)\n",
    "data_train = pd.concat(tp, ignore_index=True)"
   ]
  },
  {
   "cell_type": "code",
   "execution_count": 5,
   "metadata": {
    "collapsed": false
   },
   "outputs": [
    {
     "data": {
      "text/plain": [
       "(2999999, 25)"
      ]
     },
     "execution_count": 5,
     "metadata": {},
     "output_type": "execute_result"
    }
   ],
   "source": [
    "data_train.shape"
   ]
  },
  {
   "cell_type": "markdown",
   "metadata": {
    "collapsed": true
   },
   "source": [
    "### Defining Classifiers\n",
    "Please define two or (three) classifiers\n",
    "- `SGDClassifier` with `hinge` loss with L1 penalty (SVM with L1), you can choose a constant learning rate. You can choose the class_weight to balance the 0 and 1 class. For example, by setting `class_weight={0:1,1:4}` \n",
    "-  `SGDClassifier` with `log` loss with L1 penalty (Logistic Regression with L1), you can choose a constant learning rate. You can choose the class_weight to balance the 0 and 1 class. For example, by setting `class_weight={0:1,1:4}`\n",
    "\n",
    "- `sklearn.naive_bayes.BernoulliNB` also support `partial-fit`, which can be applied. "
   ]
  },
  {
   "cell_type": "code",
   "execution_count": 6,
   "metadata": {
    "collapsed": false
   },
   "outputs": [],
   "source": [
    "from sklearn.linear_model import SGDClassifier\n",
    "from sklearn.model_selection import GridSearchCV\n",
    "from sklearn.naive_bayes import BernoulliNB\n",
    "\n",
    "clf1= SGDClassifier(loss='hinge', penalty='l1', learning_rate='constant', class_weight={0:1,1:4}, n_jobs=-1, random_state=10, eta0=0.01)\n",
    "clf2 = SGDClassifier(loss='log', penalty='l1', learning_rate='constant', class_weight={0:1,1:4}, n_jobs=-1, random_state=10, eta0=0.01)\n",
    "clf3 = BernoulliNB()"
   ]
  },
  {
   "cell_type": "code",
   "execution_count": 7,
   "metadata": {
    "collapsed": false
   },
   "outputs": [
    {
     "data": {
      "text/plain": [
       "0    2500667\n",
       "1     499332\n",
       "Name: click, dtype: int64"
      ]
     },
     "execution_count": 7,
     "metadata": {},
     "output_type": "execute_result"
    }
   ],
   "source": [
    "data_train[\"click\"].value_counts()"
   ]
  },
  {
   "cell_type": "markdown",
   "metadata": {},
   "source": [
    "### Starting Training\n",
    "Please start training, we will use the same technique that covered in the class. We will read the chunk of data as in `data_train`. We can use `partial_fit` to update the results of `clf1`, `clf2`, `clf3`. Please monitoring the `auc` of both training and testing over the number of samples you have seen. Similar to the learning curve we have shown in the class, but with AUC instead of error as y-axis.\n"
   ]
  },
  {
   "cell_type": "code",
   "execution_count": 29,
   "metadata": {
    "collapsed": false
   },
   "outputs": [],
   "source": [
    "from sklearn.metrics import f1_score\n",
    "from sklearn import metrics\n",
    "\n",
    "chunksize = 100000\n",
    "trainloss = []\n",
    "testloss = []\n",
    "\n",
    "for i,chunk in enumerate(pd.read_csv('clrtrain', chunksize=chunksize)):\n",
    "    X_train = fh.transform(np.asarray(chunk.iloc[:,4:].astype(str)))\n",
    "    y_train = chunk.iloc[:,2]    \n",
    "    clf1.partial_fit(X_train,y_train,classes=[0,1])\n",
    "    trainloss.append(f1_score(y_train,clf1.predict(X_train)))\n",
    "    testloss.append(f1_score(y_test,clf1.predict(X_test)))"
   ]
  },
  {
   "cell_type": "code",
   "execution_count": 35,
   "metadata": {
    "collapsed": false
   },
   "outputs": [
    {
     "name": "stdout",
     "output_type": "stream",
     "text": [
      "Training F1 Score: ['0.403', '0.394', '0.393', '0.405', '0.401', '0.400', '0.385', '0.416', '0.397', '0.337', '0.408', '0.368', '0.380', '0.392', '0.400', '0.402', '0.386', '0.403', '0.400', '0.398', '0.412', '0.395', '0.381', '0.379', '0.406', '0.412', '0.407', '0.410', '0.395', '0.400'] \n",
      "\n",
      "Testing F1 Score: ['0.387', '0.379', '0.384', '0.389', '0.390', '0.377', '0.376', '0.399', '0.377', '0.326', '0.389', '0.369', '0.372', '0.353', '0.380', '0.379', '0.352', '0.390', '0.384', '0.374', '0.390', '0.379', '0.361', '0.362', '0.377', '0.382', '0.387', '0.377', '0.383', '0.385']\n"
     ]
    }
   ],
   "source": [
    "Training_F1_score = ['%.3f' % elem for elem in trainloss]\n",
    "print(\"Training F1 Score:\", Training_F1_score,'\\n')\n",
    "Testing_F1_score = ['%.3f' % elem for elem in testloss]\n",
    "print(\"Testing F1 Score:\",Testing_F1_score)"
   ]
  },
  {
   "cell_type": "code",
   "execution_count": 21,
   "metadata": {
    "collapsed": false
   },
   "outputs": [
    {
     "name": "stdout",
     "output_type": "stream",
     "text": [
      "Mean training F1_score for loop: 0.396\n",
      "Mean testing F1_score for loop: 0.378\n"
     ]
    }
   ],
   "source": [
    "print(\"Mean training F1_score for loop:\",format(np.mean(trainloss), '.3f'))\n",
    "print(\"Mean testing F1_score for loop:\",format(np.mean(testloss), '.3f'))"
   ]
  },
  {
   "cell_type": "code",
   "execution_count": 10,
   "metadata": {
    "collapsed": true
   },
   "outputs": [],
   "source": [
    "trainloss1 = []\n",
    "testloss1 = []\n",
    "\n",
    "for i,chunk in enumerate(pd.read_csv('clrtrain', chunksize=chunksize)):\n",
    "    X_train = fh.transform(np.asarray(chunk.iloc[:,4:].astype(str)))\n",
    "    y_train = chunk.iloc[:,2]    \n",
    "    clf2.partial_fit(X_train,y_train,classes=[0,1])\n",
    "    fpr, tpr, thresholds = metrics.roc_curve(y_train,clf2.predict(X_train))\n",
    "    trainloss1.append(metrics.auc(fpr, tpr))\n",
    "    fpr_t, tpr_t, thresholds_t = metrics.roc_curve(y_test,clf2.predict(X_test))\n",
    "    testloss1.append(metrics.auc(fpr_t, tpr_t))\n",
    "    "
   ]
  },
  {
   "cell_type": "code",
   "execution_count": 11,
   "metadata": {
    "collapsed": false
   },
   "outputs": [
    {
     "data": {
      "image/png": "[encoded data removed]",
      "text/plain": [
       "<matplotlib.figure.Figure at 0x1beb05bbf60>"
      ]
     },
     "metadata": {},
     "output_type": "display_data"
    }
   ],
   "source": [
    "plt.plot(trainloss1)\n",
    "plt.plot(testloss1)\n",
    "plt.legend(('train','test'))\n",
    "plt.show()"
   ]
  },
  {
   "cell_type": "code",
   "execution_count": 12,
   "metadata": {
    "collapsed": true
   },
   "outputs": [],
   "source": [
    "trainloss2 = []\n",
    "testloss2 = []\n",
    "\n",
    "for i,chunk in enumerate(pd.read_csv('clrtrain', chunksize=chunksize)):\n",
    "    X_train = fh.transform(np.asarray(chunk.iloc[:,4:].astype(str)))\n",
    "    y_train = chunk.iloc[:,2]    \n",
    "    clf3.partial_fit(X_train,y_train,classes=[0,1])\n",
    "    fpr, tpr, thresholds = metrics.roc_curve(y_train,clf3.predict(X_train))\n",
    "    trainloss2.append(metrics.auc(fpr, tpr))\n",
    "    fpr_t, tpr_t, thresholds_t = metrics.roc_curve(y_test,clf3.predict(X_test))\n",
    "    testloss2.append(metrics.auc(fpr_t, tpr_t))\n",
    "    "
   ]
  },
  {
   "cell_type": "code",
   "execution_count": 13,
   "metadata": {
    "collapsed": false
   },
   "outputs": [
    {
     "data": {
      "image/png": "[encoded data removed]",
      "text/plain": [
       "<matplotlib.figure.Figure at 0x1bed3461780>"
      ]
     },
     "metadata": {},
     "output_type": "display_data"
    }
   ],
   "source": [
    "plt.plot(trainloss2)\n",
    "plt.plot(testloss2)\n",
    "plt.legend(('train','test'))\n",
    "plt.show()"
   ]
  },
  {
   "cell_type": "code",
   "execution_count": null,
   "metadata": {
    "collapsed": true
   },
   "outputs": [],
   "source": []
  }
 ],
 "metadata": {
  "kernelspec": {
   "display_name": "Python 3",
   "language": "python",
   "name": "python3"
  },
  "language_info": {
   "codemirror_mode": {
    "name": "ipython",
    "version": 3
   },
   "file_extension": ".py",
   "mimetype": "text/x-python",
   "name": "python",
   "nbconvert_exporter": "python",
   "pygments_lexer": "ipython3",
   "version": "3.6.0"
  }
 },
 "nbformat": 4,
 "nbformat_minor": 2
}
