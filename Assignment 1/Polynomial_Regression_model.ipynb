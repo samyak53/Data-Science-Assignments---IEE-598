{
 "cells": [
  {
   "cell_type": "markdown",
   "metadata": {},
   "source": [
    "# Polynomial Regression Model\n"
   ]
  },
  {
   "cell_type": "markdown",
   "metadata": {},
   "source": [
    "### Part 0, data generation function\n",
    "We would like to first import some necessary Libraries for this task and then write down the data generation function as follow. "
   ]
  },
  {
   "cell_type": "code",
   "execution_count": 1,
   "metadata": {
    "collapsed": true
   },
   "outputs": [],
   "source": [
    "import matplotlib.pyplot as plt\n",
    "import numpy as np\n",
    "import sklearn.linear_model as skl_lm\n",
    "from sklearn.linear_model import LinearRegression\n",
    "%matplotlib inline\n",
    "\n",
    "def ftrue(x):\n",
    "    return np.sin(x)\n",
    "def generatedata(ndata,seed):\n",
    "    rng = np.random.RandomState(seed)\n",
    "    Xtrain = np.linspace(0,10,ndata)\n",
    "    Ytrain = np.sin(Xtrain) + 0.1 * rng.randn(ndata)\n",
    "    return Xtrain,Ytrain\n",
    "Xtrain,Ytrain = generatedata(50,seed=1)\n",
    "\n"
   ]
  },
  {
   "cell_type": "markdown",
   "metadata": {},
   "source": [
    "### Part 1, Visualize the data"
   ]
  },
  {
   "cell_type": "code",
   "execution_count": 2,
   "metadata": {},
   "outputs": [
    {
     "data": {
      "text/plain": [
       "<matplotlib.collections.PathCollection at 0x109a93278>"
      ]
     },
     "execution_count": 2,
     "metadata": {},
     "output_type": "execute_result"
    },
    {
     "data": {
      "image/png": "[encoded data removed]",
      "text/plain": [
       "<matplotlib.figure.Figure at 0x109a6ce80>"
      ]
     },
     "metadata": {},
     "output_type": "display_data"
    }
   ],
   "source": [
    "plt.scatter(Xtrain, Ytrain)"
   ]
  },
  {
   "cell_type": "markdown",
   "metadata": {},
   "source": [
    "### Part 2, design matrix polynomial regression: Please finish this section\n",
    "We would like to create the polynomial design matrix up to order k. \n",
    "\n",
    "**Input: **\n",
    "\n",
    "- input vector: $x = (X_{1},X_{2},\\cdots,X_{n})$\n",
    "\n",
    "- model order k: \n",
    "\n",
    "**Output: **\n",
    "- Model matrix:\n",
    "$ \\left[\\begin{array}{cccc}\n",
    "X_{1}^{1} & X_{1}^{2} & \\cdots & X_{1}^{p}\\\\\n",
    "X_{2}^{1} & X_{2}^{2} & \\cdots & X_{2}^{p}\\\\\n",
    "\\vdots\\\\\n",
    "X_{n}^{1} & X_{n}^{2} & \\cdots & X_{n}^{p}\n",
    "\\end{array}\\right]$"
   ]
  },
  {
   "cell_type": "code",
   "execution_count": 3,
   "metadata": {
    "collapsed": true
   },
   "outputs": [],
   "source": [
    "def polynomialfeatures(x,k):\n",
    "    X=np.zeros((len(x),k))\n",
    "    for i in range (1,len(x)+1):\n",
    "        for j in range(1,k+1):\n",
    "            X[i-1,j-1]= x[i-1]**j\n",
    "    return X\n"
   ]
  },
  {
   "cell_type": "markdown",
   "metadata": {},
   "source": [
    "#### Let's validate the result\n",
    "Does your result seem correct?"
   ]
  },
  {
   "cell_type": "code",
   "execution_count": 4,
   "metadata": {},
   "outputs": [
    {
     "data": {
      "text/plain": [
       "array([[ 1.,  1.,  1.],\n",
       "       [ 2.,  4.,  8.],\n",
       "       [ 3.,  9., 27.]])"
      ]
     },
     "execution_count": 4,
     "metadata": {},
     "output_type": "execute_result"
    }
   ],
   "source": [
    "x = np.array([1,2,3])\n",
    "polynomialfeatures(x,3)"
   ]
  },
  {
   "cell_type": "code",
   "execution_count": 5,
   "metadata": {},
   "outputs": [
    {
     "name": "stdout",
     "output_type": "stream",
     "text": [
      "Yes, the result is correct.\n"
     ]
    }
   ],
   "source": [
    "print(\"Yes, the result is correct.\")"
   ]
  },
  {
   "cell_type": "markdown",
   "metadata": {},
   "source": [
    "### Part 3: Training and Testing Split , please finish this section\n",
    "For this section, we would like to fit a linear regression model to the generated data with polynomial with the order $p$ from $1$ to $20$. We need to first to generate a set of testing data set to evaluate the algorithm, as in xtest, ytest. We would like to use the residual sum of square error to evaluate the performance of the algorithm"
   ]
  },
  {
   "cell_type": "code",
   "execution_count": 6,
   "metadata": {},
   "outputs": [
    {
     "name": "stdout",
     "output_type": "stream",
     "text": [
      "Residual Sum of square of Error  at degree 1 is 453.3510177410034\n",
      "Residual Sum of square of Error  at degree 2 is 371.8201239810463\n",
      "Residual Sum of square of Error  at degree 3 is 344.24557565387533\n",
      "Residual Sum of square of Error  at degree 4 is 52.254569857010495\n",
      "Residual Sum of square of Error  at degree 5 is 41.74718094891625\n",
      "Residual Sum of square of Error  at degree 6 is 11.40719514922656\n",
      "Residual Sum of square of Error  at degree 7 is 11.232819941585316\n",
      "Residual Sum of square of Error  at degree 8 is 11.085113014840788\n",
      "Residual Sum of square of Error  at degree 9 is 11.532830173418745\n",
      "Residual Sum of square of Error  at degree 10 is 11.71004558118057\n",
      "Residual Sum of square of Error  at degree 11 is 11.699882309489071\n",
      "Residual Sum of square of Error  at degree 12 is 11.810953705119235\n",
      "Residual Sum of square of Error  at degree 13 is 11.814941980492428\n",
      "Residual Sum of square of Error  at degree 14 is 11.7854867446842\n",
      "Residual Sum of square of Error  at degree 15 is 11.471079098174162\n",
      "Residual Sum of square of Error  at degree 16 is 18.41424028818385\n",
      "Residual Sum of square of Error  at degree 17 is 33.79981969555752\n",
      "Residual Sum of square of Error  at degree 18 is 34.84589299705672\n",
      "Residual Sum of square of Error  at degree 19 is 38.57757816906158\n",
      "Residual Sum of square of Error  at degree 20 is 47.438985897097155\n"
     ]
    }
   ],
   "source": [
    "## RSS value for 1 to 20 degree of polynomials\n",
    "\n",
    "from sklearn.linear_model import LinearRegression\n",
    "\n",
    "ntest = 1000\n",
    "xtest,ytest = generatedata(ntest,seed=2)\n",
    "SSE = np.zeros((20))\n",
    "# We can define the 0 order polynomial as the mean prediction\n",
    "SSE[0] = np.sum((ytest-np.mean(Ytrain))**2)\n",
    "error = []\n",
    "\n",
    "for p in range(1,21):\n",
    "    model=LinearRegression()\n",
    "    X_ = polynomialfeatures(Xtrain,p)\n",
    "    model1 = model.fit(X_, Ytrain)\n",
    "    n_xtest = polynomialfeatures(xtest,p)\n",
    "    error_sk=np.sum((ytest - model.predict(n_xtest))**2)\n",
    "    error.append(error_sk)\n",
    "    print (\"Residual Sum of square of Error  at degree %s is %s\" %(p, error_sk))\n",
    "  \n",
    "    "
   ]
  },
  {
   "cell_type": "markdown",
   "metadata": {},
   "source": [
    "#### Visualize the Testing accuracy"
   ]
  },
  {
   "cell_type": "code",
   "execution_count": 7,
   "metadata": {},
   "outputs": [
    {
     "data": {
      "image/png": "[encoded data removed]",
      "text/plain": [
       "<matplotlib.figure.Figure at 0x112ba1b70>"
      ]
     },
     "metadata": {},
     "output_type": "display_data"
    }
   ],
   "source": [
    "for p in range(20):\n",
    "    plt.scatter(p,error[p],color=\"blue\")\n",
    "    plt.xlabel(\"Degree(p)\")\n",
    "    plt.ylabel(\"RSS value\")\n",
    "    plt.title(\"RSS v/s Degree of Polynomial\")"
   ]
  },
  {
   "cell_type": "markdown",
   "metadata": {},
   "source": [
    "### The value with the least RSS value is coming to be at degree 8 with a value of 11.08511"
   ]
  },
  {
   "cell_type": "markdown",
   "metadata": {
    "collapsed": true
   },
   "source": [
    "### Part 4: Bonus\n",
    "(Bonus and open question): for this question, since we are simulating the example and we do know the true function. Can you use simulation to compute the bias and variance for different order of polynomial function? If so, please use simulation to estimate the bias and variance for polynomial model from order 1 to 20 and comment on the result. "
   ]
  },
  {
   "cell_type": "code",
   "execution_count": 8,
   "metadata": {},
   "outputs": [
    {
     "name": "stdout",
     "output_type": "stream",
     "text": [
      "0\n",
      "4\n",
      "4\n"
     ]
    }
   ],
   "source": [
    "n_sims = 100 #Conduct 100 simulation runs\n",
    "n_models = 20 #20 models to be compared with each other\n",
    "x0 = np.array([5]) #Arbitirarily choose x0=5\n",
    "predictions = np.zeros((n_sims,n_models)) #Created initial array to store predicted values\n",
    "\n",
    "for i in range(n_sims):\n",
    "    Xtrain,Ytrain = generatedata(100,seed=i)\n",
    "    predictions[i,0] = np.mean(Ytrain)\n",
    "    for p in range(1,20):\n",
    "        regr = LinearRegression()\n",
    "        regr.fit(polynomialfeatures(Xtrain,p),Ytrain)\n",
    "        predictions[i,p] = regr.predict(polynomialfeatures(x0,p))\n",
    "        \n",
    "def get_squared_bias(estimate,truth):\n",
    "    return (np.mean(estimate)-truth)**2 #Define Bias Function\n",
    "\n",
    "def get_mse(estimate,truth):\n",
    "    return np.mean((estimate-truth)**2) #Define MSE Function\n",
    "\n",
    "variance =np.var(predictions, axis=0)\n",
    "squared_bias = np.zeros((20))\n",
    "mse = np.zeros((20))\n",
    "\n",
    "for i in range(20):\n",
    "    squared_bias[i] = get_squared_bias(predictions[:,i],ftrue(10))\n",
    "    mse[i] = get_mse(predictions[:,i],ftrue(10))\n",
    "    \n",
    "print(np.argmin(variance))\n",
    "print(np.argmin(squared_bias))\n",
    "print(np.argmin(mse)) \n",
    "plt.plot(variance)\n",
    "plt.title('Variance' )\n",
    "plt.figure()\n",
    "plt.plot(squared_bias)\n",
    "plt.title('Bias')\n",
    "plt.figure()\n",
    "plt.plot(squared_bias)\n",
    "plt.title('MSE')\n"
   ]
  },
  {
   "cell_type": "markdown",
   "metadata": {},
   "source": [
    "## At degree 1 we are getting the least value of the bias and variance."
   ]
  },
  {
   "cell_type": "markdown",
   "metadata": {},
   "source": [
    "### Part 5: Visualization of your final model\n",
    "Please plot the final model that you would like to use for this problem."
   ]
  },
  {
   "cell_type": "code",
   "execution_count": 69,
   "metadata": {},
   "outputs": [
    {
     "name": "stdout",
     "output_type": "stream",
     "text": [
      "The polynomial order we choose is 1 due to the smallest SSE\n",
      "The model intercept is 0.266612638561 and coefficients are [-0.01628748]\n"
     ]
    }
   ],
   "source": [
    "#We choose the model with the smallest SSE\n",
    "\n",
    "order = np.argmin(SSE)\n",
    "print(\"The polynomial order we choose is\", order ,\"due to the smallest SSE\")\n",
    "\n",
    "# The model coefficients are\n",
    "regr.fit(polynomialfeatures(Xtrain,order),Ytrain)\n",
    "print(\"The model intercept is\",regr.intercept_, \"and coefficients are\",regr.coef_)"
   ]
  },
  {
   "cell_type": "code",
   "execution_count": 70,
   "metadata": {},
   "outputs": [
    {
     "data": {
      "text/plain": [
       "Text(0,0.5,'y')"
      ]
     },
     "execution_count": 70,
     "metadata": {},
     "output_type": "execute_result"
    },
    {
     "data": {
      "image/png": "[encoded data removed]",
      "text/plain": [
       "<matplotlib.figure.Figure at 0x168c546e588>"
      ]
     },
     "metadata": {},
     "output_type": "display_data"
    }
   ],
   "source": [
    "# Generate regression fitted plot\n",
    "\n",
    "yhat = regr.predict(polynomialfeatures(Xtrain,order))\n",
    "plt.scatter(Xtrain,Ytrain)\n",
    "plt.plot(Xtrain,yhat,'red')\n",
    "plt.xlabel('x')\n",
    "plt.ylabel('y')\n"
   ]
  },
  {
   "cell_type": "code",
   "execution_count": null,
   "metadata": {
    "collapsed": true
   },
   "outputs": [],
   "source": []
  },
  {
   "cell_type": "code",
   "execution_count": null,
   "metadata": {
    "collapsed": true
   },
   "outputs": [],
   "source": []
  }
 ],
 "metadata": {
  "celltoolbar": "Raw Cell Format",
  "kernelspec": {
   "display_name": "Python 3",
   "language": "python",
   "name": "python3"
  },
  "language_info": {
   "codemirror_mode": {
    "name": "ipython",
    "version": 3
   },
   "file_extension": ".py",
   "mimetype": "text/x-python",
   "name": "python",
   "nbconvert_exporter": "python",
   "pygments_lexer": "ipython3",
   "version": "3.6.1"
  }
 },
 "nbformat": 4,
 "nbformat_minor": 2
}
